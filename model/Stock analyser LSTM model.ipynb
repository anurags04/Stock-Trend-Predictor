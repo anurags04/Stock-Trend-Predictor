{
 "cells": [
  {
   "cell_type": "code",
   "execution_count": 1,
   "id": "2885a62f",
   "metadata": {},
   "outputs": [],
   "source": [
    "import numpy as np\n",
    "import pandas as pd\n",
    "import matplotlib.pyplot as plt\n",
    "import pandas_datareader as data\n",
    "import datetime as date"
   ]
  },
  {
   "cell_type": "code",
   "execution_count": 3,
   "id": "ac114f08",
   "metadata": {},
   "outputs": [
    {
     "data": {
      "text/html": [
       "<div>\n",
       "<style scoped>\n",
       "    .dataframe tbody tr th:only-of-type {\n",
       "        vertical-align: middle;\n",
       "    }\n",
       "\n",
       "    .dataframe tbody tr th {\n",
       "        vertical-align: top;\n",
       "    }\n",
       "\n",
       "    .dataframe thead th {\n",
       "        text-align: right;\n",
       "    }\n",
       "</style>\n",
       "<table border=\"1\" class=\"dataframe\">\n",
       "  <thead>\n",
       "    <tr style=\"text-align: right;\">\n",
       "      <th></th>\n",
       "      <th>High</th>\n",
       "      <th>Low</th>\n",
       "      <th>Open</th>\n",
       "      <th>Close</th>\n",
       "      <th>Volume</th>\n",
       "      <th>Adj Close</th>\n",
       "    </tr>\n",
       "    <tr>\n",
       "      <th>Date</th>\n",
       "      <th></th>\n",
       "      <th></th>\n",
       "      <th></th>\n",
       "      <th></th>\n",
       "      <th></th>\n",
       "      <th></th>\n",
       "    </tr>\n",
       "  </thead>\n",
       "  <tbody>\n",
       "    <tr>\n",
       "      <th>2001-01-01</th>\n",
       "      <td>2.800</td>\n",
       "      <td>2.735</td>\n",
       "      <td>2.740</td>\n",
       "      <td>2.80</td>\n",
       "      <td>19290.0</td>\n",
       "      <td>1.756827</td>\n",
       "    </tr>\n",
       "    <tr>\n",
       "      <th>2001-01-02</th>\n",
       "      <td>2.950</td>\n",
       "      <td>2.755</td>\n",
       "      <td>2.755</td>\n",
       "      <td>2.87</td>\n",
       "      <td>84930.0</td>\n",
       "      <td>1.800748</td>\n",
       "    </tr>\n",
       "    <tr>\n",
       "      <th>2001-01-03</th>\n",
       "      <td>3.000</td>\n",
       "      <td>2.840</td>\n",
       "      <td>2.840</td>\n",
       "      <td>2.94</td>\n",
       "      <td>78200.0</td>\n",
       "      <td>1.844669</td>\n",
       "    </tr>\n",
       "    <tr>\n",
       "      <th>2001-01-04</th>\n",
       "      <td>2.995</td>\n",
       "      <td>2.900</td>\n",
       "      <td>2.950</td>\n",
       "      <td>2.90</td>\n",
       "      <td>51000.0</td>\n",
       "      <td>1.819571</td>\n",
       "    </tr>\n",
       "    <tr>\n",
       "      <th>2001-01-05</th>\n",
       "      <td>2.950</td>\n",
       "      <td>2.810</td>\n",
       "      <td>2.895</td>\n",
       "      <td>2.95</td>\n",
       "      <td>74930.0</td>\n",
       "      <td>1.850943</td>\n",
       "    </tr>\n",
       "  </tbody>\n",
       "</table>\n",
       "</div>"
      ],
      "text/plain": [
       "             High    Low   Open  Close   Volume  Adj Close\n",
       "Date                                                      \n",
       "2001-01-01  2.800  2.735  2.740   2.80  19290.0   1.756827\n",
       "2001-01-02  2.950  2.755  2.755   2.87  84930.0   1.800748\n",
       "2001-01-03  3.000  2.840  2.840   2.94  78200.0   1.844669\n",
       "2001-01-04  2.995  2.900  2.950   2.90  51000.0   1.819571\n",
       "2001-01-05  2.950  2.810  2.895   2.95  74930.0   1.850943"
      ]
     },
     "execution_count": 3,
     "metadata": {},
     "output_type": "execute_result"
    }
   ],
   "source": [
    "start = '2001-01-01'\n",
    "last = date.datetime.today() - date.timedelta(days=1)\n",
    "year = last.strftime(\"%Y\")\n",
    "month = last.strftime(\"%m\")\n",
    "day = last.strftime(\"%d\")\n",
    "end = year + \"-\" + month + \"-\" + day\n",
    "\n",
    "df = data.DataReader('EICHERMOT.NS', 'yahoo', start, end)\n",
    "df.head()"
   ]
  },
  {
   "cell_type": "code",
   "execution_count": 4,
   "id": "216ffb3e",
   "metadata": {},
   "outputs": [
    {
     "data": {
      "text/html": [
       "<div>\n",
       "<style scoped>\n",
       "    .dataframe tbody tr th:only-of-type {\n",
       "        vertical-align: middle;\n",
       "    }\n",
       "\n",
       "    .dataframe tbody tr th {\n",
       "        vertical-align: top;\n",
       "    }\n",
       "\n",
       "    .dataframe thead th {\n",
       "        text-align: right;\n",
       "    }\n",
       "</style>\n",
       "<table border=\"1\" class=\"dataframe\">\n",
       "  <thead>\n",
       "    <tr style=\"text-align: right;\">\n",
       "      <th></th>\n",
       "      <th>High</th>\n",
       "      <th>Low</th>\n",
       "      <th>Open</th>\n",
       "      <th>Close</th>\n",
       "      <th>Volume</th>\n",
       "    </tr>\n",
       "  </thead>\n",
       "  <tbody>\n",
       "    <tr>\n",
       "      <th>0</th>\n",
       "      <td>2.800</td>\n",
       "      <td>2.735</td>\n",
       "      <td>2.740</td>\n",
       "      <td>2.80</td>\n",
       "      <td>19290.0</td>\n",
       "    </tr>\n",
       "    <tr>\n",
       "      <th>1</th>\n",
       "      <td>2.950</td>\n",
       "      <td>2.755</td>\n",
       "      <td>2.755</td>\n",
       "      <td>2.87</td>\n",
       "      <td>84930.0</td>\n",
       "    </tr>\n",
       "    <tr>\n",
       "      <th>2</th>\n",
       "      <td>3.000</td>\n",
       "      <td>2.840</td>\n",
       "      <td>2.840</td>\n",
       "      <td>2.94</td>\n",
       "      <td>78200.0</td>\n",
       "    </tr>\n",
       "    <tr>\n",
       "      <th>3</th>\n",
       "      <td>2.995</td>\n",
       "      <td>2.900</td>\n",
       "      <td>2.950</td>\n",
       "      <td>2.90</td>\n",
       "      <td>51000.0</td>\n",
       "    </tr>\n",
       "    <tr>\n",
       "      <th>4</th>\n",
       "      <td>2.950</td>\n",
       "      <td>2.810</td>\n",
       "      <td>2.895</td>\n",
       "      <td>2.95</td>\n",
       "      <td>74930.0</td>\n",
       "    </tr>\n",
       "  </tbody>\n",
       "</table>\n",
       "</div>"
      ],
      "text/plain": [
       "    High    Low   Open  Close   Volume\n",
       "0  2.800  2.735  2.740   2.80  19290.0\n",
       "1  2.950  2.755  2.755   2.87  84930.0\n",
       "2  3.000  2.840  2.840   2.94  78200.0\n",
       "3  2.995  2.900  2.950   2.90  51000.0\n",
       "4  2.950  2.810  2.895   2.95  74930.0"
      ]
     },
     "execution_count": 4,
     "metadata": {},
     "output_type": "execute_result"
    }
   ],
   "source": [
    "df = df.reset_index()\n",
    "df = df.drop(['Date', 'Adj Close'], axis = 1)\n",
    "\n",
    "df.head()"
   ]
  },
  {
   "cell_type": "code",
   "execution_count": 5,
   "id": "13e40c3a",
   "metadata": {},
   "outputs": [
    {
     "data": {
      "text/plain": [
       "[<matplotlib.lines.Line2D at 0x28e5367a110>]"
      ]
     },
     "execution_count": 5,
     "metadata": {},
     "output_type": "execute_result"
    },
    {
     "data": {
      "image/png": "[encoded data removed]",
      "text/plain": [
       "<Figure size 432x288 with 1 Axes>"
      ]
     },
     "metadata": {
      "needs_background": "light"
     },
     "output_type": "display_data"
    }
   ],
   "source": [
    "plt.plot(df.Close)"
   ]
  },
  {
   "cell_type": "code",
   "execution_count": 6,
   "id": "f2a6d485",
   "metadata": {},
   "outputs": [],
   "source": [
    "ma_hundred = df.Close.rolling(100).mean()\n",
    "ma_twoh = df.Close.rolling(200).mean()"
   ]
  },
  {
   "cell_type": "code",
   "execution_count": 7,
   "id": "cad149ce",
   "metadata": {},
   "outputs": [
    {
     "data": {
      "text/plain": [
       "[<matplotlib.lines.Line2D at 0x28e51f60e50>]"
      ]
     },
     "execution_count": 7,
     "metadata": {},
     "output_type": "execute_result"
    },
    {
     "data": {
      "image/png": "[encoded data removed]",
      "text/plain": [
       "<Figure size 864x432 with 1 Axes>"
      ]
     },
     "metadata": {
      "needs_background": "light"
     },
     "output_type": "display_data"
    }
   ],
   "source": [
    "plt.figure(figsize = (12,6))\n",
    "plt.plot(df.Close)\n",
    "plt.plot(ma_hundred, 'r')\n",
    "plt.plot(ma_twoh, 'g')"
   ]
  },
  {
   "cell_type": "code",
   "execution_count": 8,
   "id": "09915726",
   "metadata": {
    "scrolled": true
   },
   "outputs": [
    {
     "name": "stdout",
     "output_type": "stream",
     "text": [
      "(4292, 1)\n",
      "(1074, 1)\n"
     ]
    }
   ],
   "source": [
    "train_set = pd.DataFrame(df['Close'][0:int(len(df) * 0.80)])\n",
    "test_set = pd.DataFrame(df['Close'][int(len(df) * 0.80): int (len(df))])\n",
    "\n",
    "print(train_set.shape)\n",
    "print(test_set.shape)"
   ]
  },
  {
   "cell_type": "code",
   "execution_count": 9,
   "id": "e9155f4b",
   "metadata": {},
   "outputs": [],
   "source": [
    "from sklearn.preprocessing import MinMaxScaler\n",
    "scaler = MinMaxScaler(feature_range = (0, 1))"
   ]
  },
  {
   "cell_type": "code",
   "execution_count": 10,
   "id": "94e9a6cb",
   "metadata": {},
   "outputs": [
    {
     "data": {
      "text/plain": [
       "array([[3.13601300e-04],\n",
       "       [3.34913990e-04],\n",
       "       [3.56226753e-04],\n",
       "       ...,\n",
       "       [8.34850802e-01],\n",
       "       [8.44124938e-01],\n",
       "       [8.38218228e-01]])"
      ]
     },
     "execution_count": 10,
     "metadata": {},
     "output_type": "execute_result"
    }
   ],
   "source": [
    "train_list = scaler.fit_transform(train_set)\n",
    "train_list"
   ]
  },
  {
   "cell_type": "code",
   "execution_count": 11,
   "id": "a5a00547",
   "metadata": {},
   "outputs": [],
   "source": [
    "x_train = []\n",
    "y_train = []\n",
    "\n",
    "for i in range(100, train_list.shape[0]):\n",
    "    x_train.append(train_list[i-100: i])\n",
    "    y_train.append(train_list[i, 0])\n",
    "    \n",
    "x_train, y_train = np.array(x_train), np.array(y_train)"
   ]
  },
  {
   "cell_type": "code",
   "execution_count": 12,
   "id": "27f3b344",
   "metadata": {},
   "outputs": [],
   "source": [
    "from keras.layers import Dense, Dropout, LSTM\n",
    "from keras.models import Sequential"
   ]
  },
  {
   "cell_type": "code",
   "execution_count": 13,
   "id": "758303e1",
   "metadata": {},
   "outputs": [],
   "source": [
    "model = Sequential()\n",
    "\n",
    "model.add(LSTM(units = 50, activation = 'relu', return_sequences = True, input_shape = (x_train.shape[1], 1)))\n",
    "model.add(Dropout(0.2))\n",
    "\n",
    "model.add(LSTM(units = 80, activation = 'relu', return_sequences = True, input_shape = (x_train.shape[1], 1)))\n",
    "model.add(Dropout(0.3))\n",
    "\n",
    "model.add(LSTM(units = 100, activation = 'relu', return_sequences = True, input_shape = (x_train.shape[1], 1)))\n",
    "model.add(Dropout(0.4))\n",
    "\n",
    "model.add(LSTM(units = 150, activation = 'relu'))\n",
    "model.add(Dropout(0.5))\n",
    "\n",
    "model.add(Dense(units = 1))"
   ]
  },
  {
   "cell_type": "code",
   "execution_count": 14,
   "id": "d24b009b",
   "metadata": {},
   "outputs": [
    {
     "name": "stdout",
     "output_type": "stream",
     "text": [
      "Model: \"sequential\"\n",
      "_________________________________________________________________\n",
      " Layer (type)                Output Shape              Param #   \n",
      "=================================================================\n",
      " lstm (LSTM)                 (None, 100, 50)           10400     \n",
      "                                                                 \n",
      " dropout (Dropout)           (None, 100, 50)           0         \n",
      "                                                                 \n",
      " lstm_1 (LSTM)               (None, 100, 80)           41920     \n",
      "                                                                 \n",
      " dropout_1 (Dropout)         (None, 100, 80)           0         \n",
      "                                                                 \n",
      " lstm_2 (LSTM)               (None, 100, 100)          72400     \n",
      "                                                                 \n",
      " dropout_2 (Dropout)         (None, 100, 100)          0         \n",
      "                                                                 \n",
      " lstm_3 (LSTM)               (None, 150)               150600    \n",
      "                                                                 \n",
      " dropout_3 (Dropout)         (None, 150)               0         \n",
      "                                                                 \n",
      " dense (Dense)               (None, 1)                 151       \n",
      "                                                                 \n",
      "=================================================================\n",
      "Total params: 275,471\n",
      "Trainable params: 275,471\n",
      "Non-trainable params: 0\n",
      "_________________________________________________________________\n"
     ]
    }
   ],
   "source": [
    "model.summary()"
   ]
  },
  {
   "cell_type": "code",
   "execution_count": 15,
   "id": "1156d090",
   "metadata": {},
   "outputs": [
    {
     "name": "stdout",
     "output_type": "stream",
     "text": [
      "Epoch 1/50\n",
      "131/131 [==============================] - 34s 237ms/step - loss: 0.0136\n",
      "Epoch 2/50\n",
      "131/131 [==============================] - 40s 306ms/step - loss: 0.0028\n",
      "Epoch 3/50\n",
      "131/131 [==============================] - 39s 299ms/step - loss: 0.0026\n",
      "Epoch 4/50\n",
      "131/131 [==============================] - 39s 298ms/step - loss: 0.0026\n",
      "Epoch 5/50\n",
      "131/131 [==============================] - 40s 302ms/step - loss: 0.0024\n",
      "Epoch 6/50\n",
      "131/131 [==============================] - 39s 300ms/step - loss: 0.0023\n",
      "Epoch 7/50\n",
      "131/131 [==============================] - 39s 300ms/step - loss: 0.0023\n",
      "Epoch 8/50\n",
      "131/131 [==============================] - 40s 305ms/step - loss: 0.0023\n",
      "Epoch 9/50\n",
      "131/131 [==============================] - 40s 309ms/step - loss: 0.0021\n",
      "Epoch 10/50\n",
      "131/131 [==============================] - 37s 279ms/step - loss: 0.0024\n",
      "Epoch 11/50\n",
      "131/131 [==============================] - 35s 269ms/step - loss: 0.0020\n",
      "Epoch 12/50\n",
      "131/131 [==============================] - 36s 271ms/step - loss: 0.0022\n",
      "Epoch 13/50\n",
      "131/131 [==============================] - 39s 295ms/step - loss: 0.0022\n",
      "Epoch 14/50\n",
      "131/131 [==============================] - 40s 303ms/step - loss: 0.0020\n",
      "Epoch 15/50\n",
      "131/131 [==============================] - 40s 302ms/step - loss: 0.0019\n",
      "Epoch 16/50\n",
      "131/131 [==============================] - 40s 304ms/step - loss: 0.0020\n",
      "Epoch 17/50\n",
      "131/131 [==============================] - 40s 304ms/step - loss: 0.0021\n",
      "Epoch 18/50\n",
      "131/131 [==============================] - 40s 306ms/step - loss: 0.0018\n",
      "Epoch 19/50\n",
      "131/131 [==============================] - 40s 309ms/step - loss: 0.0018\n",
      "Epoch 20/50\n",
      "131/131 [==============================] - 40s 306ms/step - loss: 0.0022\n",
      "Epoch 21/50\n",
      "131/131 [==============================] - 39s 301ms/step - loss: 0.0019\n",
      "Epoch 22/50\n",
      "131/131 [==============================] - 37s 284ms/step - loss: 0.0017\n",
      "Epoch 23/50\n",
      "131/131 [==============================] - 36s 275ms/step - loss: 0.0018\n",
      "Epoch 24/50\n",
      "131/131 [==============================] - 36s 272ms/step - loss: 0.0019\n",
      "Epoch 25/50\n",
      "131/131 [==============================] - 37s 282ms/step - loss: 0.0017\n",
      "Epoch 26/50\n",
      "131/131 [==============================] - 35s 269ms/step - loss: 0.0018\n",
      "Epoch 27/50\n",
      "131/131 [==============================] - 40s 304ms/step - loss: 0.0018\n",
      "Epoch 28/50\n",
      "131/131 [==============================] - 40s 306ms/step - loss: 0.0017\n",
      "Epoch 29/50\n",
      "131/131 [==============================] - 40s 305ms/step - loss: 0.0019\n",
      "Epoch 30/50\n",
      "131/131 [==============================] - 40s 306ms/step - loss: 0.0019\n",
      "Epoch 31/50\n",
      "131/131 [==============================] - 43s 328ms/step - loss: 0.0019\n",
      "Epoch 32/50\n",
      "131/131 [==============================] - 44s 338ms/step - loss: 0.0016\n",
      "Epoch 33/50\n",
      "131/131 [==============================] - 40s 306ms/step - loss: 0.0020\n",
      "Epoch 34/50\n",
      "131/131 [==============================] - 40s 305ms/step - loss: 0.0017\n",
      "Epoch 35/50\n",
      "131/131 [==============================] - 37s 283ms/step - loss: 0.0016\n",
      "Epoch 36/50\n",
      "131/131 [==============================] - 36s 272ms/step - loss: 0.0018\n",
      "Epoch 37/50\n",
      "131/131 [==============================] - 40s 306ms/step - loss: 0.0018\n",
      "Epoch 38/50\n",
      "131/131 [==============================] - 40s 304ms/step - loss: 0.0018\n",
      "Epoch 39/50\n",
      "131/131 [==============================] - 40s 305ms/step - loss: 0.0017\n",
      "Epoch 40/50\n",
      "131/131 [==============================] - 40s 306ms/step - loss: 0.0016\n",
      "Epoch 41/50\n",
      "131/131 [==============================] - 40s 305ms/step - loss: 0.0019\n",
      "Epoch 42/50\n",
      "131/131 [==============================] - 40s 307ms/step - loss: 0.0019\n",
      "Epoch 43/50\n",
      "131/131 [==============================] - 41s 311ms/step - loss: 0.0018\n",
      "Epoch 44/50\n",
      "131/131 [==============================] - 41s 310ms/step - loss: 0.0018\n",
      "Epoch 45/50\n",
      "131/131 [==============================] - 37s 283ms/step - loss: 0.0017\n",
      "Epoch 46/50\n",
      "131/131 [==============================] - 37s 284ms/step - loss: 0.0017\n",
      "Epoch 47/50\n",
      "131/131 [==============================] - 36s 277ms/step - loss: 0.0017\n",
      "Epoch 48/50\n",
      "131/131 [==============================] - 36s 271ms/step - loss: 0.0015\n",
      "Epoch 49/50\n",
      "131/131 [==============================] - 36s 273ms/step - loss: 0.0016\n",
      "Epoch 50/50\n",
      "131/131 [==============================] - 37s 283ms/step - loss: 0.0017\n"
     ]
    },
    {
     "data": {
      "text/plain": [
       "<keras.callbacks.History at 0x28e7257d9c0>"
      ]
     },
     "execution_count": 15,
     "metadata": {},
     "output_type": "execute_result"
    }
   ],
   "source": [
    "model.compile(optimizer = 'adam', loss = 'mean_squared_error')\n",
    "model.fit(x_train, y_train, epochs = 50)"
   ]
  },
  {
   "cell_type": "code",
   "execution_count": 26,
   "id": "1a6ad51e",
   "metadata": {},
   "outputs": [],
   "source": [
    "model.save('stocks_model.h5')"
   ]
  },
  {
   "cell_type": "code",
   "execution_count": 31,
   "id": "c6ceb79f",
   "metadata": {},
   "outputs": [
    {
     "name": "stderr",
     "output_type": "stream",
     "text": [
      "C:\\Users\\anrag\\AppData\\Local\\Temp\\ipykernel_8420\\2699504873.py:3: FutureWarning: The frame.append method is deprecated and will be removed from pandas in a future version. Use pandas.concat instead.\n",
      "  test_final = temp.append(test_set, ignore_index = True)\n"
     ]
    },
    {
     "data": {
      "text/html": [
       "<div>\n",
       "<style scoped>\n",
       "    .dataframe tbody tr th:only-of-type {\n",
       "        vertical-align: middle;\n",
       "    }\n",
       "\n",
       "    .dataframe tbody tr th {\n",
       "        vertical-align: top;\n",
       "    }\n",
       "\n",
       "    .dataframe thead th {\n",
       "        text-align: right;\n",
       "    }\n",
       "</style>\n",
       "<table border=\"1\" class=\"dataframe\">\n",
       "  <thead>\n",
       "    <tr style=\"text-align: right;\">\n",
       "      <th></th>\n",
       "      <th>Close</th>\n",
       "    </tr>\n",
       "  </thead>\n",
       "  <tbody>\n",
       "    <tr>\n",
       "      <th>0</th>\n",
       "      <td>52.242500</td>\n",
       "    </tr>\n",
       "    <tr>\n",
       "      <th>1</th>\n",
       "      <td>50.687500</td>\n",
       "    </tr>\n",
       "    <tr>\n",
       "      <th>2</th>\n",
       "      <td>50.435001</td>\n",
       "    </tr>\n",
       "    <tr>\n",
       "      <th>3</th>\n",
       "      <td>51.625000</td>\n",
       "    </tr>\n",
       "    <tr>\n",
       "      <th>4</th>\n",
       "      <td>52.587502</td>\n",
       "    </tr>\n",
       "  </tbody>\n",
       "</table>\n",
       "</div>"
      ],
      "text/plain": [
       "       Close\n",
       "0  52.242500\n",
       "1  50.687500\n",
       "2  50.435001\n",
       "3  51.625000\n",
       "4  52.587502"
      ]
     },
     "execution_count": 31,
     "metadata": {},
     "output_type": "execute_result"
    }
   ],
   "source": [
    "temp = train_set.tail(100)\n",
    "\n",
    "test_final = temp.append(test_set, ignore_index = True)\n",
    "\n",
    "test_final.head()"
   ]
  },
  {
   "cell_type": "code",
   "execution_count": 38,
   "id": "f27c6212",
   "metadata": {},
   "outputs": [
    {
     "data": {
      "text/plain": [
       "(730, 1)"
      ]
     },
     "execution_count": 38,
     "metadata": {},
     "output_type": "execute_result"
    }
   ],
   "source": [
    "input2 = scaler.fit_transform(test_final)\n",
    "input2.shape"
   ]
  },
  {
   "cell_type": "code",
   "execution_count": 39,
   "id": "bddb2db8",
   "metadata": {},
   "outputs": [],
   "source": [
    "x_test = []\n",
    "y_test = []\n",
    "\n",
    "for i in range(100, input2.shape[0]):\n",
    "    x_test.append(input2[i-100: i])\n",
    "    y_test.append(input2[i, 0])"
   ]
  },
  {
   "cell_type": "code",
   "execution_count": 40,
   "id": "b5de3640",
   "metadata": {},
   "outputs": [
    {
     "name": "stdout",
     "output_type": "stream",
     "text": [
      "(630, 100, 1)\n",
      "(630,)\n"
     ]
    }
   ],
   "source": [
    "x_test, y_test = np.array(x_test), np.array(y_test)\n",
    "print(x_test.shape)\n",
    "print(y_test.shape)"
   ]
  },
  {
   "cell_type": "code",
   "execution_count": 41,
   "id": "711fc170",
   "metadata": {},
   "outputs": [
    {
     "name": "stdout",
     "output_type": "stream",
     "text": [
      "20/20 [==============================] - 2s 80ms/step\n"
     ]
    },
    {
     "data": {
      "text/plain": [
       "(630, 1)"
      ]
     },
     "execution_count": 41,
     "metadata": {},
     "output_type": "execute_result"
    }
   ],
   "source": [
    "y_predict = model.predict(x_test)\n",
    "\n",
    "y_predict.shape"
   ]
  },
  {
   "cell_type": "code",
   "execution_count": 50,
   "id": "4635f742",
   "metadata": {},
   "outputs": [
    {
     "data": {
      "text/plain": [
       "131.57499313354492"
      ]
     },
     "execution_count": 50,
     "metadata": {},
     "output_type": "execute_result"
    }
   ],
   "source": [
    "scale_factor = 1/(scaler.scale_[0])\n",
    "scale_factor"
   ]
  },
  {
   "cell_type": "code",
   "execution_count": 52,
   "id": "9e390cc7",
   "metadata": {},
   "outputs": [],
   "source": [
    "y_predict *= scale_factor\n",
    "y_test *= scale_factor"
   ]
  },
  {
   "cell_type": "code",
   "execution_count": 54,
   "id": "9f54ea7b",
   "metadata": {},
   "outputs": [
    {
     "data": {
      "image/png": "[encoded data removed]",
      "text/plain": [
       "<Figure size 864x432 with 1 Axes>"
      ]
     },
     "metadata": {
      "needs_background": "light"
     },
     "output_type": "display_data"
    }
   ],
   "source": [
    "plt.figure(figsize=(12,6))\n",
    "plt.plot(y_test, 'b', label = 'Stock Price')\n",
    "plt.plot(y_predict, 'r', label = 'Predicted Price')\n",
    "plt.xlabel('Time')\n",
    "plt.ylabel('Price')\n",
    "plt.legend()\n",
    "plt.show()"
   ]
  },
  {
   "cell_type": "code",
   "execution_count": null,
   "id": "c59f7bc3",
   "metadata": {},
   "outputs": [],
   "source": []
  }
 ],
 "metadata": {
  "kernelspec": {
   "display_name": "Python 3 (ipykernel)",
   "language": "python",
   "name": "python3"
  },
  "language_info": {
   "codemirror_mode": {
    "name": "ipython",
    "version": 3
   },
   "file_extension": ".py",
   "mimetype": "text/x-python",
   "name": "python",
   "nbconvert_exporter": "python",
   "pygments_lexer": "ipython3",
   "version": "3.10.5"
  }
 },
 "nbformat": 4,
 "nbformat_minor": 5
}
