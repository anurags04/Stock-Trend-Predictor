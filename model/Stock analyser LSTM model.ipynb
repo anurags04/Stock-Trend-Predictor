{
 "cells": [
  {
   "cell_type": "code",
   "execution_count": 1,
   "id": "2885a62f",
   "metadata": {},
   "outputs": [],
   "source": [
    "import numpy as np\n",
    "import pandas as pd\n",
    "import matplotlib.pyplot as plt\n",
    "import pandas_datareader as data\n",
    "import datetime as date"
   ]
  },
  {
   "cell_type": "code",
   "execution_count": 2,
   "id": "ac114f08",
   "metadata": {},
   "outputs": [
    {
     "data": {
      "text/html": [
       "<div>\n",
       "<style scoped>\n",
       "    .dataframe tbody tr th:only-of-type {\n",
       "        vertical-align: middle;\n",
       "    }\n",
       "\n",
       "    .dataframe tbody tr th {\n",
       "        vertical-align: top;\n",
       "    }\n",
       "\n",
       "    .dataframe thead th {\n",
       "        text-align: right;\n",
       "    }\n",
       "</style>\n",
       "<table border=\"1\" class=\"dataframe\">\n",
       "  <thead>\n",
       "    <tr style=\"text-align: right;\">\n",
       "      <th></th>\n",
       "      <th>High</th>\n",
       "      <th>Low</th>\n",
       "      <th>Open</th>\n",
       "      <th>Close</th>\n",
       "      <th>Volume</th>\n",
       "      <th>Adj Close</th>\n",
       "    </tr>\n",
       "    <tr>\n",
       "      <th>Date</th>\n",
       "      <th></th>\n",
       "      <th></th>\n",
       "      <th></th>\n",
       "      <th></th>\n",
       "      <th></th>\n",
       "      <th></th>\n",
       "    </tr>\n",
       "  </thead>\n",
       "  <tbody>\n",
       "    <tr>\n",
       "      <th>2001-01-01</th>\n",
       "      <td>2.800</td>\n",
       "      <td>2.735</td>\n",
       "      <td>2.740</td>\n",
       "      <td>2.80</td>\n",
       "      <td>19290.0</td>\n",
       "      <td>1.756827</td>\n",
       "    </tr>\n",
       "    <tr>\n",
       "      <th>2001-01-02</th>\n",
       "      <td>2.950</td>\n",
       "      <td>2.755</td>\n",
       "      <td>2.755</td>\n",
       "      <td>2.87</td>\n",
       "      <td>84930.0</td>\n",
       "      <td>1.800748</td>\n",
       "    </tr>\n",
       "    <tr>\n",
       "      <th>2001-01-03</th>\n",
       "      <td>3.000</td>\n",
       "      <td>2.840</td>\n",
       "      <td>2.840</td>\n",
       "      <td>2.94</td>\n",
       "      <td>78200.0</td>\n",
       "      <td>1.844669</td>\n",
       "    </tr>\n",
       "    <tr>\n",
       "      <th>2001-01-04</th>\n",
       "      <td>2.995</td>\n",
       "      <td>2.900</td>\n",
       "      <td>2.950</td>\n",
       "      <td>2.90</td>\n",
       "      <td>51000.0</td>\n",
       "      <td>1.819571</td>\n",
       "    </tr>\n",
       "    <tr>\n",
       "      <th>2001-01-05</th>\n",
       "      <td>2.950</td>\n",
       "      <td>2.810</td>\n",
       "      <td>2.895</td>\n",
       "      <td>2.95</td>\n",
       "      <td>74930.0</td>\n",
       "      <td>1.850943</td>\n",
       "    </tr>\n",
       "  </tbody>\n",
       "</table>\n",
       "</div>"
      ],
      "text/plain": [
       "             High    Low   Open  Close   Volume  Adj Close\n",
       "Date                                                      \n",
       "2001-01-01  2.800  2.735  2.740   2.80  19290.0   1.756827\n",
       "2001-01-02  2.950  2.755  2.755   2.87  84930.0   1.800748\n",
       "2001-01-03  3.000  2.840  2.840   2.94  78200.0   1.844669\n",
       "2001-01-04  2.995  2.900  2.950   2.90  51000.0   1.819571\n",
       "2001-01-05  2.950  2.810  2.895   2.95  74930.0   1.850943"
      ]
     },
     "execution_count": 2,
     "metadata": {},
     "output_type": "execute_result"
    }
   ],
   "source": [
    "start = '2001-01-01'\n",
    "last = date.datetime.today() - date.timedelta(days=1)\n",
    "year = last.strftime(\"%Y\")\n",
    "month = last.strftime(\"%m\")\n",
    "day = last.strftime(\"%d\")\n",
    "end = year + \"-\" + month + \"-\" + day\n",
    "\n",
    "df = data.DataReader('EICHERMOT.NS', 'yahoo', start, end)\n",
    "df.head()"
   ]
  },
  {
   "cell_type": "code",
   "execution_count": 3,
   "id": "216ffb3e",
   "metadata": {},
   "outputs": [
    {
     "data": {
      "text/html": [
       "<div>\n",
       "<style scoped>\n",
       "    .dataframe tbody tr th:only-of-type {\n",
       "        vertical-align: middle;\n",
       "    }\n",
       "\n",
       "    .dataframe tbody tr th {\n",
       "        vertical-align: top;\n",
       "    }\n",
       "\n",
       "    .dataframe thead th {\n",
       "        text-align: right;\n",
       "    }\n",
       "</style>\n",
       "<table border=\"1\" class=\"dataframe\">\n",
       "  <thead>\n",
       "    <tr style=\"text-align: right;\">\n",
       "      <th></th>\n",
       "      <th>High</th>\n",
       "      <th>Low</th>\n",
       "      <th>Open</th>\n",
       "      <th>Close</th>\n",
       "      <th>Volume</th>\n",
       "    </tr>\n",
       "  </thead>\n",
       "  <tbody>\n",
       "    <tr>\n",
       "      <th>0</th>\n",
       "      <td>2.800</td>\n",
       "      <td>2.735</td>\n",
       "      <td>2.740</td>\n",
       "      <td>2.80</td>\n",
       "      <td>19290.0</td>\n",
       "    </tr>\n",
       "    <tr>\n",
       "      <th>1</th>\n",
       "      <td>2.950</td>\n",
       "      <td>2.755</td>\n",
       "      <td>2.755</td>\n",
       "      <td>2.87</td>\n",
       "      <td>84930.0</td>\n",
       "    </tr>\n",
       "    <tr>\n",
       "      <th>2</th>\n",
       "      <td>3.000</td>\n",
       "      <td>2.840</td>\n",
       "      <td>2.840</td>\n",
       "      <td>2.94</td>\n",
       "      <td>78200.0</td>\n",
       "    </tr>\n",
       "    <tr>\n",
       "      <th>3</th>\n",
       "      <td>2.995</td>\n",
       "      <td>2.900</td>\n",
       "      <td>2.950</td>\n",
       "      <td>2.90</td>\n",
       "      <td>51000.0</td>\n",
       "    </tr>\n",
       "    <tr>\n",
       "      <th>4</th>\n",
       "      <td>2.950</td>\n",
       "      <td>2.810</td>\n",
       "      <td>2.895</td>\n",
       "      <td>2.95</td>\n",
       "      <td>74930.0</td>\n",
       "    </tr>\n",
       "  </tbody>\n",
       "</table>\n",
       "</div>"
      ],
      "text/plain": [
       "    High    Low   Open  Close   Volume\n",
       "0  2.800  2.735  2.740   2.80  19290.0\n",
       "1  2.950  2.755  2.755   2.87  84930.0\n",
       "2  3.000  2.840  2.840   2.94  78200.0\n",
       "3  2.995  2.900  2.950   2.90  51000.0\n",
       "4  2.950  2.810  2.895   2.95  74930.0"
      ]
     },
     "execution_count": 3,
     "metadata": {},
     "output_type": "execute_result"
    }
   ],
   "source": [
    "df = df.reset_index()\n",
    "df = df.drop(['Date', 'Adj Close'], axis = 1)\n",
    "\n",
    "df.head()"
   ]
  },
  {
   "cell_type": "code",
   "execution_count": 4,
   "id": "13e40c3a",
   "metadata": {},
   "outputs": [
    {
     "data": {
      "text/plain": [
       "[<matplotlib.lines.Line2D at 0x1e25c426020>]"
      ]
     },
     "execution_count": 4,
     "metadata": {},
     "output_type": "execute_result"
    },
    {
     "data": {
      "image/png": "[encoded data removed]",
      "text/plain": [
       "<Figure size 432x288 with 1 Axes>"
      ]
     },
     "metadata": {
      "needs_background": "light"
     },
     "output_type": "display_data"
    }
   ],
   "source": [
    "plt.plot(df.Close)"
   ]
  },
  {
   "cell_type": "code",
   "execution_count": 5,
   "id": "f2a6d485",
   "metadata": {},
   "outputs": [],
   "source": [
    "ma_hundred = df.Close.rolling(100).mean()\n",
    "ma_twoh = df.Close.rolling(200).mean()"
   ]
  },
  {
   "cell_type": "code",
   "execution_count": 6,
   "id": "cad149ce",
   "metadata": {},
   "outputs": [
    {
     "data": {
      "text/plain": [
       "[<matplotlib.lines.Line2D at 0x1e25ddf8cd0>]"
      ]
     },
     "execution_count": 6,
     "metadata": {},
     "output_type": "execute_result"
    },
    {
     "data": {
      "image/png": "[encoded data removed]",
      "text/plain": [
       "<Figure size 864x432 with 1 Axes>"
      ]
     },
     "metadata": {
      "needs_background": "light"
     },
     "output_type": "display_data"
    }
   ],
   "source": [
    "plt.figure(figsize = (12,6))\n",
    "plt.plot(df.Close)\n",
    "plt.plot(ma_hundred, 'r')\n",
    "plt.plot(ma_twoh, 'g')"
   ]
  },
  {
   "cell_type": "code",
   "execution_count": 7,
   "id": "09915726",
   "metadata": {
    "scrolled": true
   },
   "outputs": [
    {
     "name": "stdout",
     "output_type": "stream",
     "text": [
      "(4300, 1)\n",
      "(1075, 1)\n"
     ]
    }
   ],
   "source": [
    "train_set = pd.DataFrame(df['Close'][0:int(len(df) * 0.80)])\n",
    "test_set = pd.DataFrame(df['Close'][int(len(df) * 0.80): int (len(df))])\n",
    "\n",
    "print(train_set.shape)\n",
    "print(test_set.shape)"
   ]
  },
  {
   "cell_type": "code",
   "execution_count": 8,
   "id": "e9155f4b",
   "metadata": {},
   "outputs": [],
   "source": [
    "from sklearn.preprocessing import MinMaxScaler\n",
    "scaler = MinMaxScaler(feature_range = (0, 1))"
   ]
  },
  {
   "cell_type": "code",
   "execution_count": 9,
   "id": "94e9a6cb",
   "metadata": {},
   "outputs": [
    {
     "data": {
      "text/plain": [
       "array([[3.13601300e-04],\n",
       "       [3.34913990e-04],\n",
       "       [3.56226753e-04],\n",
       "       ...,\n",
       "       [8.77829452e-01],\n",
       "       [8.77747240e-01],\n",
       "       [8.73146707e-01]])"
      ]
     },
     "execution_count": 9,
     "metadata": {},
     "output_type": "execute_result"
    }
   ],
   "source": [
    "train_list = scaler.fit_transform(train_set)\n",
    "train_list"
   ]
  },
  {
   "cell_type": "code",
   "execution_count": 10,
   "id": "a5a00547",
   "metadata": {},
   "outputs": [],
   "source": [
    "x_train = []\n",
    "y_train = []\n",
    "\n",
    "for i in range(100, train_list.shape[0]):\n",
    "    x_train.append(train_list[i-100: i])\n",
    "    y_train.append(train_list[i, 0])\n",
    "    \n",
    "x_train, y_train = np.array(x_train), np.array(y_train)"
   ]
  },
  {
   "cell_type": "code",
   "execution_count": 11,
   "id": "27f3b344",
   "metadata": {},
   "outputs": [],
   "source": [
    "from keras.layers import Dense, Dropout, LSTM\n",
    "from keras.models import Sequential"
   ]
  },
  {
   "cell_type": "code",
   "execution_count": 12,
   "id": "758303e1",
   "metadata": {},
   "outputs": [],
   "source": [
    "model = Sequential()\n",
    "\n",
    "model.add(LSTM(units = 50, activation = 'relu', return_sequences = True, input_shape = (x_train.shape[1], 1)))\n",
    "model.add(Dropout(0.2))\n",
    "\n",
    "model.add(LSTM(units = 80, activation = 'relu', return_sequences = True, input_shape = (x_train.shape[1], 1)))\n",
    "model.add(Dropout(0.3))\n",
    "\n",
    "model.add(LSTM(units = 100, activation = 'relu', return_sequences = True, input_shape = (x_train.shape[1], 1)))\n",
    "model.add(Dropout(0.4))\n",
    "\n",
    "model.add(LSTM(units = 150, activation = 'relu'))\n",
    "model.add(Dropout(0.5))\n",
    "\n",
    "model.add(Dense(units = 1))"
   ]
  },
  {
   "cell_type": "code",
   "execution_count": 13,
   "id": "d24b009b",
   "metadata": {},
   "outputs": [
    {
     "name": "stdout",
     "output_type": "stream",
     "text": [
      "Model: \"sequential\"\n",
      "_________________________________________________________________\n",
      " Layer (type)                Output Shape              Param #   \n",
      "=================================================================\n",
      " lstm (LSTM)                 (None, 100, 50)           10400     \n",
      "                                                                 \n",
      " dropout (Dropout)           (None, 100, 50)           0         \n",
      "                                                                 \n",
      " lstm_1 (LSTM)               (None, 100, 80)           41920     \n",
      "                                                                 \n",
      " dropout_1 (Dropout)         (None, 100, 80)           0         \n",
      "                                                                 \n",
      " lstm_2 (LSTM)               (None, 100, 100)          72400     \n",
      "                                                                 \n",
      " dropout_2 (Dropout)         (None, 100, 100)          0         \n",
      "                                                                 \n",
      " lstm_3 (LSTM)               (None, 150)               150600    \n",
      "                                                                 \n",
      " dropout_3 (Dropout)         (None, 150)               0         \n",
      "                                                                 \n",
      " dense (Dense)               (None, 1)                 151       \n",
      "                                                                 \n",
      "=================================================================\n",
      "Total params: 275,471\n",
      "Trainable params: 275,471\n",
      "Non-trainable params: 0\n",
      "_________________________________________________________________\n"
     ]
    }
   ],
   "source": [
    "model.summary()"
   ]
  },
  {
   "cell_type": "code",
   "execution_count": 14,
   "id": "c1a5258b",
   "metadata": {},
   "outputs": [
    {
     "name": "stdout",
     "output_type": "stream",
     "text": [
      "(4200, 100, 1)\n",
      "(4200,)\n"
     ]
    }
   ],
   "source": [
    "print(x_train.shape)\n",
    "print(y_train.shape)"
   ]
  },
  {
   "cell_type": "code",
   "execution_count": 15,
   "id": "1156d090",
   "metadata": {},
   "outputs": [
    {
     "name": "stdout",
     "output_type": "stream",
     "text": [
      "Epoch 1/50\n",
      "132/132 [==============================] - 30s 198ms/step - loss: 0.0133\n",
      "Epoch 2/50\n",
      "132/132 [==============================] - 28s 215ms/step - loss: 0.0032\n",
      "Epoch 3/50\n",
      "132/132 [==============================] - 30s 226ms/step - loss: 0.0028\n",
      "Epoch 4/50\n",
      "132/132 [==============================] - 30s 229ms/step - loss: 0.0025\n",
      "Epoch 5/50\n",
      "132/132 [==============================] - 31s 235ms/step - loss: 0.0028\n",
      "Epoch 6/50\n",
      "132/132 [==============================] - 30s 227ms/step - loss: 0.0023\n",
      "Epoch 7/50\n",
      "132/132 [==============================] - 30s 229ms/step - loss: 0.0023\n",
      "Epoch 8/50\n",
      "132/132 [==============================] - 31s 233ms/step - loss: 0.0023\n",
      "Epoch 9/50\n",
      "132/132 [==============================] - 31s 232ms/step - loss: 0.0021\n",
      "Epoch 10/50\n",
      "132/132 [==============================] - 31s 234ms/step - loss: 0.0024\n",
      "Epoch 11/50\n",
      "132/132 [==============================] - 31s 236ms/step - loss: 0.0021\n",
      "Epoch 12/50\n",
      "132/132 [==============================] - 31s 234ms/step - loss: 0.0021\n",
      "Epoch 13/50\n",
      "132/132 [==============================] - 32s 241ms/step - loss: 0.0023\n",
      "Epoch 14/50\n",
      "132/132 [==============================] - 32s 242ms/step - loss: 0.0023\n",
      "Epoch 15/50\n",
      "132/132 [==============================] - 33s 250ms/step - loss: 0.0020\n",
      "Epoch 16/50\n",
      "132/132 [==============================] - 31s 235ms/step - loss: 0.0024\n",
      "Epoch 17/50\n",
      "132/132 [==============================] - 35s 265ms/step - loss: 0.0018\n",
      "Epoch 18/50\n",
      "132/132 [==============================] - 31s 237ms/step - loss: 0.0021\n",
      "Epoch 19/50\n",
      "132/132 [==============================] - 32s 239ms/step - loss: 0.0020\n",
      "Epoch 20/50\n",
      "132/132 [==============================] - 34s 257ms/step - loss: 0.0019\n",
      "Epoch 21/50\n",
      "132/132 [==============================] - 32s 244ms/step - loss: 0.0021\n",
      "Epoch 22/50\n",
      "132/132 [==============================] - 33s 248ms/step - loss: 0.0016\n",
      "Epoch 23/50\n",
      "132/132 [==============================] - 33s 251ms/step - loss: 0.0020\n",
      "Epoch 24/50\n",
      "132/132 [==============================] - 32s 238ms/step - loss: 0.0018\n",
      "Epoch 25/50\n",
      "132/132 [==============================] - 35s 262ms/step - loss: 0.0018\n",
      "Epoch 26/50\n",
      "132/132 [==============================] - 38s 290ms/step - loss: 0.0017\n",
      "Epoch 27/50\n",
      "132/132 [==============================] - 35s 264ms/step - loss: 0.0018\n",
      "Epoch 28/50\n",
      "132/132 [==============================] - 33s 248ms/step - loss: 0.0020\n",
      "Epoch 29/50\n",
      "132/132 [==============================] - 45s 340ms/step - loss: 0.0019\n",
      "Epoch 30/50\n",
      "132/132 [==============================] - 57s 431ms/step - loss: 0.0016\n",
      "Epoch 31/50\n",
      "132/132 [==============================] - 58s 438ms/step - loss: 0.0019\n",
      "Epoch 32/50\n",
      "132/132 [==============================] - 58s 441ms/step - loss: 0.0015\n",
      "Epoch 33/50\n",
      "132/132 [==============================] - 58s 443ms/step - loss: 0.0015\n",
      "Epoch 34/50\n",
      "132/132 [==============================] - 58s 442ms/step - loss: 0.0016\n",
      "Epoch 35/50\n",
      "132/132 [==============================] - 59s 446ms/step - loss: 0.0016\n",
      "Epoch 36/50\n",
      "132/132 [==============================] - 58s 441ms/step - loss: 0.0015\n",
      "Epoch 37/50\n",
      "132/132 [==============================] - 59s 444ms/step - loss: 0.0017\n",
      "Epoch 38/50\n",
      "132/132 [==============================] - 58s 439ms/step - loss: 0.0016\n",
      "Epoch 39/50\n",
      "132/132 [==============================] - 58s 443ms/step - loss: 0.0016\n",
      "Epoch 40/50\n",
      "132/132 [==============================] - 57s 431ms/step - loss: 0.0016\n",
      "Epoch 41/50\n",
      "132/132 [==============================] - 57s 429ms/step - loss: 0.0016\n",
      "Epoch 42/50\n",
      "132/132 [==============================] - 57s 434ms/step - loss: 0.0016\n",
      "Epoch 43/50\n",
      "132/132 [==============================] - 56s 424ms/step - loss: 0.0014\n",
      "Epoch 44/50\n",
      "132/132 [==============================] - 57s 430ms/step - loss: 0.0018\n",
      "Epoch 45/50\n",
      "132/132 [==============================] - 58s 438ms/step - loss: 0.0015\n",
      "Epoch 46/50\n",
      "132/132 [==============================] - 58s 441ms/step - loss: 0.0018\n",
      "Epoch 47/50\n",
      "132/132 [==============================] - 57s 434ms/step - loss: 0.0017\n",
      "Epoch 48/50\n",
      "132/132 [==============================] - 57s 432ms/step - loss: 0.0018\n",
      "Epoch 49/50\n",
      "132/132 [==============================] - 57s 431ms/step - loss: 0.0016\n",
      "Epoch 50/50\n",
      "132/132 [==============================] - 57s 428ms/step - loss: 0.0016\n"
     ]
    },
    {
     "data": {
      "text/plain": [
       "<keras.callbacks.History at 0x1e27c8b1ba0>"
      ]
     },
     "execution_count": 15,
     "metadata": {},
     "output_type": "execute_result"
    }
   ],
   "source": [
    "model.compile(optimizer = 'adam', loss = 'mean_squared_error')\n",
    "model.fit(x_train, y_train, epochs = 50)"
   ]
  },
  {
   "cell_type": "code",
   "execution_count": 16,
   "id": "1a6ad51e",
   "metadata": {},
   "outputs": [],
   "source": [
    "model.save('stocks_model.h5')"
   ]
  },
  {
   "cell_type": "code",
   "execution_count": 17,
   "id": "c6ceb79f",
   "metadata": {},
   "outputs": [
    {
     "name": "stderr",
     "output_type": "stream",
     "text": [
      "C:\\Users\\anrag\\AppData\\Local\\Temp\\ipykernel_14340\\2699504873.py:3: FutureWarning: The frame.append method is deprecated and will be removed from pandas in a future version. Use pandas.concat instead.\n",
      "  test_final = temp.append(test_set, ignore_index = True)\n"
     ]
    },
    {
     "data": {
      "text/html": [
       "<div>\n",
       "<style scoped>\n",
       "    .dataframe tbody tr th:only-of-type {\n",
       "        vertical-align: middle;\n",
       "    }\n",
       "\n",
       "    .dataframe tbody tr th {\n",
       "        vertical-align: top;\n",
       "    }\n",
       "\n",
       "    .dataframe thead th {\n",
       "        text-align: right;\n",
       "    }\n",
       "</style>\n",
       "<table border=\"1\" class=\"dataframe\">\n",
       "  <thead>\n",
       "    <tr style=\"text-align: right;\">\n",
       "      <th></th>\n",
       "      <th>Close</th>\n",
       "    </tr>\n",
       "  </thead>\n",
       "  <tbody>\n",
       "    <tr>\n",
       "      <th>0</th>\n",
       "      <td>3117.080078</td>\n",
       "    </tr>\n",
       "    <tr>\n",
       "      <th>1</th>\n",
       "      <td>3148.330078</td>\n",
       "    </tr>\n",
       "    <tr>\n",
       "      <th>2</th>\n",
       "      <td>3171.639893</td>\n",
       "    </tr>\n",
       "    <tr>\n",
       "      <th>3</th>\n",
       "      <td>3161.754883</td>\n",
       "    </tr>\n",
       "    <tr>\n",
       "      <th>4</th>\n",
       "      <td>3181.175049</td>\n",
       "    </tr>\n",
       "  </tbody>\n",
       "</table>\n",
       "</div>"
      ],
      "text/plain": [
       "         Close\n",
       "0  3117.080078\n",
       "1  3148.330078\n",
       "2  3171.639893\n",
       "3  3161.754883\n",
       "4  3181.175049"
      ]
     },
     "execution_count": 17,
     "metadata": {},
     "output_type": "execute_result"
    }
   ],
   "source": [
    "temp = train_set.tail(100)\n",
    "\n",
    "test_final = temp.append(test_set, ignore_index = True)\n",
    "\n",
    "test_final.head()"
   ]
  },
  {
   "cell_type": "code",
   "execution_count": 18,
   "id": "f27c6212",
   "metadata": {},
   "outputs": [
    {
     "data": {
      "text/plain": [
       "(1175, 1)"
      ]
     },
     "execution_count": 18,
     "metadata": {},
     "output_type": "execute_result"
    }
   ],
   "source": [
    "input2 = scaler.fit_transform(test_final)\n",
    "input2.shape"
   ]
  },
  {
   "cell_type": "code",
   "execution_count": 19,
   "id": "bddb2db8",
   "metadata": {},
   "outputs": [],
   "source": [
    "x_test = []\n",
    "y_test = []\n",
    "\n",
    "for i in range(100, input2.shape[0]):\n",
    "    x_test.append(input2[i-100: i])\n",
    "    y_test.append(input2[i, 0])"
   ]
  },
  {
   "cell_type": "code",
   "execution_count": 20,
   "id": "b5de3640",
   "metadata": {},
   "outputs": [
    {
     "name": "stdout",
     "output_type": "stream",
     "text": [
      "(1075, 100, 1)\n",
      "(1075,)\n"
     ]
    }
   ],
   "source": [
    "x_test, y_test = np.array(x_test), np.array(y_test)\n",
    "print(x_test.shape)\n",
    "print(y_test.shape)"
   ]
  },
  {
   "cell_type": "code",
   "execution_count": 21,
   "id": "94490476",
   "metadata": {},
   "outputs": [],
   "source": [
    "from tensorflow import keras"
   ]
  },
  {
   "cell_type": "code",
   "execution_count": 22,
   "id": "711fc170",
   "metadata": {},
   "outputs": [
    {
     "name": "stdout",
     "output_type": "stream",
     "text": [
      "34/34 [==============================] - 7s 160ms/step\n"
     ]
    },
    {
     "data": {
      "text/plain": [
       "(1075, 1)"
      ]
     },
     "execution_count": 22,
     "metadata": {},
     "output_type": "execute_result"
    }
   ],
   "source": [
    "predictor = keras.models.load_model('stocks_model.h5')\n",
    "\n",
    "y_predict = predictor.predict(x_test)\n",
    "\n",
    "y_predict.shape"
   ]
  },
  {
   "cell_type": "code",
   "execution_count": 23,
   "id": "4635f742",
   "metadata": {},
   "outputs": [
    {
     "data": {
      "text/plain": [
       "1969.0999755859375"
      ]
     },
     "execution_count": 23,
     "metadata": {},
     "output_type": "execute_result"
    }
   ],
   "source": [
    "scale_factor = 1/(scaler.scale_[0])\n",
    "scale_factor"
   ]
  },
  {
   "cell_type": "code",
   "execution_count": 24,
   "id": "9e390cc7",
   "metadata": {},
   "outputs": [],
   "source": [
    "y_predict *= scale_factor\n",
    "y_test *= scale_factor"
   ]
  },
  {
   "cell_type": "code",
   "execution_count": 25,
   "id": "9f54ea7b",
   "metadata": {},
   "outputs": [
    {
     "data": {
      "image/png": "[encoded data removed]",
      "text/plain": [
       "<Figure size 864x432 with 1 Axes>"
      ]
     },
     "metadata": {
      "needs_background": "light"
     },
     "output_type": "display_data"
    }
   ],
   "source": [
    "plt.figure(figsize=(12,6))\n",
    "plt.plot(y_test, 'b', label = 'Stock Price')\n",
    "plt.plot(y_predict, 'r', label = 'Predicted Price')\n",
    "plt.xlabel('Time')\n",
    "plt.ylabel('Price')\n",
    "plt.legend()\n",
    "plt.show()"
   ]
  },
  {
   "cell_type": "code",
   "execution_count": 26,
   "id": "c59f7bc3",
   "metadata": {},
   "outputs": [
    {
     "name": "stdout",
     "output_type": "stream",
     "text": [
      "0.8874418604651163\n"
     ]
    }
   ],
   "source": [
    "count = 0\n",
    "\n",
    "for i in range (0, len(y_test)):\n",
    "    if(abs(y_test[i] - y_predict[i]) <= 250):\n",
    "        count += 1\n",
    "        \n",
    "print(count/len(y_test))"
   ]
  },
  {
   "cell_type": "code",
   "execution_count": 27,
   "id": "84a9dbb0",
   "metadata": {},
   "outputs": [
    {
     "name": "stdout",
     "output_type": "stream",
     "text": [
      "3081.199951171875\n"
     ]
    }
   ],
   "source": [
    "print(df['Close'].iloc[-1])"
   ]
  },
  {
   "cell_type": "code",
   "execution_count": null,
   "id": "7f531500",
   "metadata": {},
   "outputs": [],
   "source": []
  }
 ],
 "metadata": {
  "kernelspec": {
   "display_name": "Python 3 (ipykernel)",
   "language": "python",
   "name": "python3"
  },
  "language_info": {
   "codemirror_mode": {
    "name": "ipython",
    "version": 3
   },
   "file_extension": ".py",
   "mimetype": "text/x-python",
   "name": "python",
   "nbconvert_exporter": "python",
   "pygments_lexer": "ipython3",
   "version": "3.10.5"
  }
 },
 "nbformat": 4,
 "nbformat_minor": 5
}
